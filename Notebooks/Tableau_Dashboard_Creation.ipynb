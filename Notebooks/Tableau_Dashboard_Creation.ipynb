{
 "cells": [
  {
   "cell_type": "markdown",
   "metadata": {},
   "source": [
    "### Steps to Build Tableau Dashboard\n",
    "Below are the steps used to build the Tableau Dashboard associated with the Jupyter notebook file CRM_SurveyMonkey_data_clean_for_Tableau. \n",
    "\n",
    "This Dashboard can be found here:\n",
    "https://public.tableau.com/views/SAONPSLearningOutcomes/StudyAbroadSatisfactionandLearning?:display_count=y&publish=yes&:origin=viz_share_link\n",
    "\n",
    "I'll add many of the calculations used to produce the visualization, along with some general steps. I encourage you to explore the visualization and please reach out if you have any questions (emac1980@gmail.com). "
   ]
  },
  {
   "cell_type": "markdown",
   "metadata": {},
   "source": [
    "#### Step 1: Create a Calculation for NPS scores-\n",
    "\n",
    "<img src=\"http://drive.google.com/uc?export=view&id=1s1etKqQSpr8Ea6sY87Re6JloFhw81PsW\">\n",
    "\n",
    "This will allow us to create a table displaying NPS, always at the level of detail of the single student, but when averaged, it will give us the true NPS for at the city level-\n",
    "<img src=\"http://drive.google.com/uc?export=view&id=1s3n2Ljdes3xeqNEUkUtH8M1yv8IHNUHN\">"
   ]
  },
  {
   "cell_type": "markdown",
   "metadata": {},
   "source": [
    "### Step 2: Add other important calculations pertaining to the student satisfaction dashboard\n",
    "The Number of students will be the generic number of records pill always present in Tableau, or you can create a new name with \"1\" as the forumla used to generate Learning Outcomes metrics\n",
    "- We also need to calculate the survey response rate, which is just the number of records associated with a survey (a response generates a record - pill \"Post Response CT\"), divided by the total number of records taken from the CRM, multiplied by 100 (convert to a percentage)-\n",
    "<img src=\"http://drive.google.com/uc?export=view&id=1CUT8bsBJoK6WdrORT1vpSp_37EoAfuCq\">\n",
    "\n",
    "After completing these calculations, the primary dashboard can be built. Of course filters will need to be added, then associated with all sheets, but it shouldn't take long to complete the dash. I created a fake company, with logo, using Adobe Spark, for the image in the top right of the dash-\n",
    "<img src=\"http://drive.google.com/uc?export=view&id=1O9UcB6OzgelUPM6scOSvEB5AAcMW5aM8\">"
   ]
  },
  {
   "cell_type": "markdown",
   "metadata": {},
   "source": [
    "### Step 3: Learning Outcomes Calculations\n",
    "Because we have two different types of learning outcomes metrics: 15 pre and post questions, designed to be administered BEFORE and AFTER studying abroad - these are questions such as “I am aware of how my home government policies are viewed in my host country” and “I’m aware of where the products I consume are produced and understand their environmental impact” - students rate these on level of agreement 1-10, the idea is that their study abroad experience will increase their understanding and cultural awareness, increasing their scores, and creating a greater % difference between pre (the start of their programs) and post (the end). The second type of learning is goal attainment. Pre-departure students are asked to list the goals they wish to accomplish while abroad [select from list], then after their programs end, they are asked to list the goals they accomplished while abroad [select from list]). Because of this, we will want a few different calculations. \n",
    "- For overall learning, both Pre and Post, the function associated with the pill should be AVG when added to a sheet-\n",
    "\n",
    "<img src=\"http://drive.google.com/uc?export=view&id=1lahYuJQhxedBJffGdq5jdMAVVTU2wafS\">\n",
    "For the top right viz on the Learning Outcomes dash, we will need to first calculate the duration, in days, of each program to show a line graph, using bins- duration in days is a standard DATEDIFF calc-\n",
    "\n",
    "<img src=\"http://drive.google.com/uc?export=view&id=1u1ewcrLljJQ8zZn5LP0rK3VJ7azc2cnu\">\n",
    "Bins are created with an IF, ELSE function (for some reason, I prefer this over the bin function in Tableau)-\n",
    "\n",
    "<img src=\"http://drive.google.com/uc?export=view&id=1Nb_40Ik3Qzx2NRQZzBRRkV3P6rvgZkDB\">\n",
    "Finally, an average difference should be calculated, then the AGG pill added to the chart in the rows field-\n",
    "\n",
    "<img src=\"http://drive.google.com/uc?export=view&id=1JCj7bTIu5h5Hnn759r_hBv-1u1gQhcik\">\n",
    "That should enable us to be able to create all visualizations associated with our learning questions.\n"
   ]
  },
  {
   "cell_type": "markdown",
   "metadata": {},
   "source": [
    "### Step 4: Goal Attainment Calculations\n",
    "Per program, we want to calculate the percentage of participants that managed to attain the goals they selected on both the pre- and post- program surveys. Goal attainment is indicated using INT fields. For example, if a student selected that a goal is to \"develope new skills\", then in that field a \"1\" is present. All questions are in the same order, both pre and post. So, if a student selected the goal is to \"Develope New Skills\" in both the pre, and post, the aggregate of the two fields should be \"2\", so then we would flag that with a \"1\"-\n",
    "<img src=\"http://drive.google.com/uc?export=view&id=17vTAWrRGfqCMhomwPfaJfSwQCpzKpjQ-\">\n",
    "For the \"Understand Regional Politics goal\", each field is worth \"6\", so an aggregate of \"12\" will allow us to flag that student with a \"1\", indicating that he/she accomplished the goal indicated prior to departure-\n",
    "<img src=\"http://drive.google.com/uc?export=view&id=Z7vBGct22WBo-BfKsUKWOe3XPYl08d7J\">\n",
    "So in order to calculate the percentage of students that \"Developed New Skills\" on a program, we will need to take the sum of the dev new skills flag (1) and divide that by the number of students that answered the post program survey. That gives us the percent of students that accomplished the goal they indicated prior to departure-\n",
    "<img src=\"http://drive.google.com/uc?export=view&id=17XK-9kbBkMKSdBWGgpzaCbG_5R9pw0oL\">\n",
    "\n",
    "This should enable the user to create the final \"Master Learning Outcomes\" dashboard. \n",
    "\n"
   ]
  }
 ],
 "metadata": {
  "kernelspec": {
   "display_name": "Python 3",
   "language": "python",
   "name": "python3"
  },
  "language_info": {
   "codemirror_mode": {
    "name": "ipython",
    "version": 3
   },
   "file_extension": ".py",
   "mimetype": "text/x-python",
   "name": "python",
   "nbconvert_exporter": "python",
   "pygments_lexer": "ipython3",
   "version": "3.7.1"
  }
 },
 "nbformat": 4,
 "nbformat_minor": 2
}
